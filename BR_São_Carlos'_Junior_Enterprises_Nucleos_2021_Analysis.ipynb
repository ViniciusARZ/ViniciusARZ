{
  "nbformat": 4,
  "nbformat_minor": 0,
  "metadata": {
    "colab": {
      "name": "BR-São Carlos' Junior Enterprises Nucleos 2021 Analysis",
      "provenance": [],
      "authorship_tag": "ABX9TyPcOIsHOLptLfjCdUqOX/sF"
    },
    "kernelspec": {
      "name": "python3",
      "display_name": "Python 3"
    },
    "language_info": {
      "name": "python"
    }
  },
  "cells": [
    {
      "cell_type": "markdown",
      "metadata": {
        "id": "crPLFVMWvjzf"
      },
      "source": [
        "Author: Vinícius Antoino Ramos Zecca\n",
        "\n",
        "*LinkedIn: /viniciusarz*\n",
        "\n",
        "*Github: /ViniciusARZ*\n"
      ]
    },
    {
      "cell_type": "code",
      "metadata": {
        "id": "WOewqYdiOEu4"
      },
      "source": [
        "import sqlite3\n",
        "import pandas as pd\n",
        "from IPython.display import display\n",
        "import sqlalchemy\n"
      ],
      "execution_count": 6,
      "outputs": []
    },
    {
      "cell_type": "markdown",
      "metadata": {
        "id": "t2x5mtoGxQUZ"
      },
      "source": [
        "# Data Cleaning and Processing (w/ Tools)"
      ]
    },
    {
      "cell_type": "markdown",
      "metadata": {
        "id": "dRl9sc0cxVcE"
      },
      "source": [
        "## Google Spreadsheets"
      ]
    },
    {
      "cell_type": "markdown",
      "metadata": {
        "id": "RxbwAp2VxfTu"
      },
      "source": [
        "In Google Spreadsheets I cleaned up what it was faster than it would be using SQL:\n",
        "1. Replace \"N/A's with \" \", or basically *nulls*\n",
        "2. Transform some Attribute types to make it easier to read in SQL.\n",
        "3. Column \"Faturamento\" was in Text but it actually is a currency, so I used SPLIT() + TRIM() + SUBSTITUTE() + 'Number Formatting' to correct it... Same thing  with others.\n",
        "4. Select which Columns I'm going to need based on the problem I want to solve and the analysis object. Did a backup in case I wanted to return. \n"
      ]
    },
    {
      "cell_type": "markdown",
      "metadata": {
        "id": "IaZNK1Mi5yI8"
      },
      "source": [
        "## SQL - Google Cloud's Big Query"
      ]
    },
    {
      "cell_type": "markdown",
      "metadata": {
        "id": "XIQYwjM-vZXR"
      },
      "source": [
        "Disclaimers:\n",
        "1. I didn't use SQLite extension because I already had everything in Big Query\n",
        "2. The following Query Codes are just to show what I did in SQL and keep a Changelog\n",
        "\n",
        "\n"
      ]
    },
    {
      "cell_type": "markdown",
      "metadata": {
        "id": "KdpNzdDY7WFU"
      },
      "source": [
        "Import and Schema Establishment"
      ]
    },
    {
      "cell_type": "code",
      "metadata": {
        "id": "AbHv4sd67i3y"
      },
      "source": [
        "#'ID:INTEGER,EMPRESA_JUNIOR:STRING,DATA_DE_CADASTRO:DATE,ANO_DE_FEDERACAO:INTEGER, CLUSTER_2020:INTEGER,CLUSTER_2021:INTEGER,CLUSTER_2022:INTEGER,É_ALTO_CRESCIMENTO:BOOLEAN, MES_DO_ALTO_CRESCIMENTO:INTEGER,TEMPO_MEDIO_POR_PROJETO_DIAS:FLOAT,PORC_PROJETOS_COLETADOS_NPS:INTEGER,DATA_DE_ASSINATURA:DATE,MES:INTEGER,PROJETOS:INTEGER,DURACAO_DO_PROJETO_EM_DIAS_UTEIS:INTEGER,FATURAMENTO:FLOAT,ATINGE_ALGUM_ODS:BOOLEAN,NUMERO_DE_ODS_ATINGIDOS:INTEGER,ACAO_COMPARTILHADA:BOOLEAN,NUMERO_DE_EJS_QUE_PARTICIPARAM:INTEGER,NUMERO_DE_MEMBROS_PARTICIPANTES:INTEGER,NPS:INTEGER,DATA_DE_COLETA_DE_NPS:DATE,ESTADO_DO_CLIENTE:STRING,CIDADE_DO_CLIENTE:STRING,SERVICO:STRING,ESTADO:STRING,CIDADE:STRING,UNIVERSIDADE:STRING,CURSOS:STRING,NUMERO_MEMBROS:INTEGER'\n",
        "\n",
        "# Dataframe reading just to visualize the table\n",
        "df2021 = pd.read_csv('/content/BJ_NuSC_Mon2021_07 - 2021.csv',',')\n",
        "display(df2021)\n"
      ],
      "execution_count": null,
      "outputs": []
    },
    {
      "cell_type": "markdown",
      "metadata": {
        "id": "Y2B12zbtDvtI"
      },
      "source": [
        "*The SQL Queries to create Variables are in the Analysis Section below*"
      ]
    },
    {
      "cell_type": "markdown",
      "metadata": {
        "id": "sFvIQJGMDdT4"
      },
      "source": [
        "# Analysis Phase"
      ]
    },
    {
      "cell_type": "code",
      "metadata": {
        "id": "ENzWKpFcuQ1m"
      },
      "source": [
        "# Aggregate data by Junior Enterprise and tell me the Cluster progress rate,\n",
        "#   so this means that I want to see the proportion between Junior Enterprises that\n",
        "#   were able to progress from 2020 to 2021 in Cluster classification.\n",
        "#   QUERY 1\n",
        "#   SELECT EMPRESA_J__NIOR,\n",
        "    #   AVG(CLUSTER_2020) AS CLUSTER2020,\n",
        "    #   AVG(CLUSTER_2021)AS CLUSTER2021,\n",
        "    #   FROM `dataset-orbe.IRHistoricalAnalysis.NUSC_2021_07`\n",
        "    #   GROUP BY EMPRESA_J__NIOR\n",
        "    #   ORDER BY C2021 DESC\n",
        "resultsQuery1 = pd.read_csv('results-query1.csv')\n",
        "display(resultsQuery1)\n",
        "\n",
        "# What can be seen from there?\n",
        "\n",
        "# Cluster Evolution\n",
        "# - In SQL:\n",
        "#   SELECT EMPRESA_J__NIOR,\n",
        "    #   AVG(CLUSTER_2020) AS CLUSTER2020,\n",
        "    #   AVG(CLUSTER_2021)AS CLUSTER2021,\n",
        "    #     ( SELECT COUNT(ID), \n",
        "    #     FROM `dataset-orbe.IRHistoricalAnalysis.NUSC_2021_07` \n",
        "    #     WHERE CLUSTER_2021 != CLUSTER_2020\n",
        "    #     ) AS Percent\n",
        "    #   FROM `dataset-orbe.IRHistoricalAnalysis.NUSC_2021_07`\n",
        "    #   GROUP BY EMPRESA_J__NIOR\n",
        "    #   ORDER BY CLUSTER2021 DESC\n",
        "# In pandas:\n",
        "NoJEProgressedCluster = resultsQuery1[resultsQuery1['CLUSTER2020'] != resultsQuery1['CLUSTER2021']]\n",
        "print(NoJEProgressedCluster.count()/resultsQuery1.count())\n",
        "\n",
        "# Cluster Proportion\n",
        "# QUERY 2\n",
        "#   SELECT CLUSTER_2020, \n",
        "    #   count(CLUSTER_2021) as Cluster2021_count,\n",
        "    #   count(CLUSTER_2021) * 100.0 / (\n",
        "    #       select count(*) from `dataset-orbe.IRHistoricalAnalysis.NUSC_2021_07`) \n",
        "    #       AS Cluster_percent2021\n",
        "    #   FROM `dataset-orbe.IRHistoricalAnalysis.NUSC_2021_07`\n",
        "    #   group by CLUSTER_2020\n",
        "ResultsQuery2 = "
      ],
      "execution_count": null,
      "outputs": []
    },
    {
      "cell_type": "markdown",
      "metadata": {
        "id": "fOaLhsyUsmoe"
      },
      "source": [
        "\n",
        "If the ID is taken into account, because it is the only value that can't be *null*, this means that only 0.36, or **36%**, of Junior Enterprises were **able to Progress in Cluster Classification**"
      ]
    },
    {
      "cell_type": "code",
      "metadata": {
        "id": "3wNJf10bsvzb"
      },
      "source": [
        ""
      ],
      "execution_count": null,
      "outputs": []
    }
  ]
}