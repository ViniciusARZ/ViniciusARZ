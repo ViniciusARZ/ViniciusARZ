{
  "nbformat": 4,
  "nbformat_minor": 0,
  "metadata": {
    "colab": {
      "name": "SalesData Filtered by my name",
      "provenance": [],
      "authorship_tag": "ABX9TyM96UaZN7T9qrmJz+jNaNgg"
    },
    "kernelspec": {
      "name": "python3",
      "display_name": "Python 3"
    },
    "language_info": {
      "name": "python"
    }
  },
  "cells": [
    {
      "cell_type": "code",
      "metadata": {
        "id": "HCuqOhxMRvkZ"
      },
      "source": [
        "!pip install --upgrade gspread\n",
        "!pip install schedule\n"
      ],
      "execution_count": null,
      "outputs": []
    },
    {
      "cell_type": "markdown",
      "metadata": {
        "id": "lMYygVnISS7i"
      },
      "source": [
        "# Google Authorization\n",
        "---"
      ]
    },
    {
      "cell_type": "code",
      "metadata": {
        "id": "Hofa2Y93R7Ei"
      },
      "source": [
        "from google.colab import auth\n",
        "auth.authenticate_user()\n",
        "\n",
        "import pandas as pd\n",
        "import gspread\n",
        "from oauth2client.client import GoogleCredentials\n",
        "\n",
        "gc = gspread.authorize(GoogleCredentials.get_application_default())"
      ],
      "execution_count": null,
      "outputs": []
    },
    {
      "cell_type": "markdown",
      "metadata": {
        "id": "PKsdfBeHUHIY"
      },
      "source": [
        "# Workbook Access & Filtering"
      ]
    },
    {
      "cell_type": "markdown",
      "metadata": {
        "id": "2x1Him5yYEa2"
      },
      "source": [
        "Accessing the Individual KPIs file"
      ]
    },
    {
      "cell_type": "code",
      "metadata": {
        "id": "CquQFMOXXtMI"
      },
      "source": [
        "#Personal KPI File\n",
        "kpi = gc.open_by_key('1_tX2YxGQ6_F-5crKlObUb506VObh6G84xUeHRZ0pAL8')\n",
        "# Sales Data - Sheet\n",
        "prosparchives = kpi.worksheet('Prospection Archives')"
      ],
      "execution_count": null,
      "outputs": []
    },
    {
      "cell_type": "markdown",
      "metadata": {
        "id": "PopEW8DtYIK_"
      },
      "source": [
        "Acessing and working with Sales Data 6.0"
      ]
    },
    {
      "cell_type": "code",
      "metadata": {
        "id": "Zpq_SgpGSShp"
      },
      "source": [
        "#General Sales - Coorp 6.0 Workbook\n",
        "wb = gc.open_by_url('https://docs.google.com/spreadsheets/d/1VWqmG0fC87VqvyfuUM5dCAvHggyxDqsq-sIIt26Jn88/edit?usp=sharing')\n",
        "# Sales Data - Sheet\n",
        "ws = wb.worksheet(\"Sales Data\")"
      ],
      "execution_count": null,
      "outputs": []
    },
    {
      "cell_type": "code",
      "metadata": {
        "colab": {
          "base_uri": "https://localhost:8080/"
        },
        "id": "DCcBhE37T2ga",
        "outputId": "e54b0a91-7872-4542-c550-f35083f55670"
      },
      "source": [
        "# get all values from rows from Sales Data\n",
        "rows = ws.get_all_values()\n",
        "df = pd.DataFrame.from_records(rows[3:],columns=rows[1])\n",
        "print(df.columns)\n",
        "#Apply filters in the df from Sales Data\n",
        "personaldf = df[df['LGA']=='Vinicius']\n",
        "print(personaldf)"
      ],
      "execution_count": null,
      "outputs": [
        {
          "output_type": "stream",
          "text": [
            "Index(['', '# employees ( >100)', 'Website in English', 'HQ Non Spanish',\n",
            "       'Best Place2Work or Ranking Merco', 'HR Department', 'Date (M-D-Y)',\n",
            "       'Company Name', 'ID', 'LGA', 'Country', 'City', 'Score Corp',\n",
            "       'Course 1', 'Course 2', 'Course 3\\nSoft skills', 'Industry', 'Web Page',\n",
            "       'Contact Name', 'Score', 'Title', 'Área', 'Email', 'Linkedin', 'Phone',\n",
            "       'NeverBounce', 'Status', 'Campaign Number \\nCampaing \\n(día/mes/año)',\n",
            "       '', 'OUT OF CRITERIA'],\n",
            "      dtype='object')\n",
            "         # employees ( >100)  ...    OUT OF CRITERIA\n",
            "19582                201-500  ...                   \n",
            "19583                201-500  ...                   \n",
            "19584                201-500  ...                   \n",
            "19585               501-1000  ...                   \n",
            "19586               501-1000  ...                   \n",
            "...   ..                 ...  ... ..             ...\n",
            "20399                 51-200  ...                   \n",
            "20400                         ...                   \n",
            "20401                         ...                   \n",
            "20402                         ...                   \n",
            "20403                         ...                   \n",
            "\n",
            "[821 rows x 30 columns]\n"
          ],
          "name": "stdout"
        }
      ]
    },
    {
      "cell_type": "code",
      "metadata": {
        "id": "ZPHx_i2QVNMZ"
      },
      "source": [
        "#Picking up the LGAs unique values to transform into a Python list and filter\n",
        "LGAs = df[\"LGA\"]\n",
        "uniqueLGAs = LGAs.drop_duplicates().tolist()"
      ],
      "execution_count": null,
      "outputs": []
    },
    {
      "cell_type": "code",
      "metadata": {
        "colab": {
          "base_uri": "https://localhost:8080/"
        },
        "id": "xTGvdIj7W56Q",
        "outputId": "34c4362e-58b2-4456-b51d-b85da1ff1f6c"
      },
      "source": [
        "#\n",
        "for LGA in uniqueLGAs:\n",
        "  print(LGA)"
      ],
      "execution_count": null,
      "outputs": [
        {
          "output_type": "stream",
          "text": [
            "Natalia\n",
            "Daniela\n",
            "\n",
            "Paola \n",
            "Paola\n",
            "Isabella\n",
            "Harvey\n",
            "Renata\n",
            "Vinicius\n",
            "Tatiana\n",
            "Juan Pablo\n",
            "Ginna\n"
          ],
          "name": "stdout"
        }
      ]
    },
    {
      "cell_type": "code",
      "metadata": {
        "id": "hYwiX7jDXIOA"
      },
      "source": [
        "# Convert the Dataframe to a List, sum with the personal Dataframe and then turns into a Python List with Numpy\n",
        "# That's because the cells won't be updated with a dataframe value or a spreadsheets value that is read as json or csv.\n",
        "#def updateSpreadsheet()\n",
        "listconvertpersonaldf = [personaldf.columns.tolist()] + personaldf.to_numpy().tolist()\n",
        "prosparchives.update(\"A1\",listconvertpersonaldf)"
      ],
      "execution_count": null,
      "outputs": []
    },
    {
      "cell_type": "markdown",
      "metadata": {
        "id": "eoDYBMAnboEW"
      },
      "source": [
        "# Make it Run Daily"
      ]
    },
    {
      "cell_type": "code",
      "metadata": {
        "id": "fEA_UiTebrsm"
      },
      "source": [
        "import schedule\n",
        "import time\n",
        "\n",
        "def job():\n",
        "  prosparchives.update(\"A1\",listconvertpersonaldf)\n",
        "schedule.every().day.at(\"01:00\").do(job,'It is 01:00')\n",
        "\n",
        "while True:\n",
        "    schedule.run_pending()\n",
        "    time.sleep(60)"
      ],
      "execution_count": null,
      "outputs": []
    }
  ]
}